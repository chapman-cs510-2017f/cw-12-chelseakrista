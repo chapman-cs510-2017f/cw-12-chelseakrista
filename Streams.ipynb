{
 "cells": [
  {
   "cell_type": "markdown",
   "metadata": {
    "collapsed": false
   },
   "source": [
    "Sharon, Chelsea, Krisa\n",
    "# Streams\n",
    "1. Explain the key differences that you see in the file between C++ and C.\n",
    "C++ supports data structures and classes. Also, certain features are more automated when comparing with C. Ex. \"Return 0\" is implicit in C++.\n",
    "\n",
    "2. Describe the concept of a namespace, and what :: means.\n",
    "The concept of a namespace is used as a container to hold all of the functions and variables that are available in that namespace. To access the namespace that is outside of the current namespace, we use \"::\"\n",
    "\n",
    "3. Describe how streams do things differently. In particular, explain the differences in reading from command line arguments, reading and writing to a file, printing to standard output, and printing to standard error.\n",
    "The stream operator \"<<\" and \">>\" automatically converts types. In C++, when stream is used, it automatically converts type when reading from the command line argument, whereas in C the type needs to be explicitly defined. C++ has more defined functions for reading and writing the a file, so the mode does not have to be specified. In C, a mode needs to be given to open a file--ex. read, write, append. To write in C++, stream can be used wheras in C, the fputs function needs to be used. When printing standard output and standard error, C++ has specific functions the coder can use. They are cout and cerr. C uses the more general function, printf to print, and code needs to be implemented to specify when to print the standard output and error.\n",
    "\n",
    "4. Explain how a C++ string differs from a C string.\n",
    "C++ strings are objects, so they have functions the coder can use similar to python like append and copy. Strings are made to work together with the stream operator. The NULL is also not required in C++ because it is an object. In C, C string represents a character array that has no functionality.\n",
    "\n",
    "5. Compile and run the code, and make sure you understand the output."
   ]
  },
  {
   "cell_type": "code",
   "execution_count": 2,
   "metadata": {
    "collapsed": false
   },
   "outputs": [
    {
     "name": "stdout",
     "output_type": "stream",
     "text": [
      "arg1 = 7\n"
     ]
    },
    {
     "name": "stdout",
     "output_type": "stream",
     "text": [
      "This is printing from foo.\n"
     ]
    },
    {
     "name": "stdout",
     "output_type": "stream",
     "text": [
      "This is printing from bar.\n"
     ]
    },
    {
     "name": "stdout",
     "output_type": "stream",
     "text": [
      "This is printing from foo.\n"
     ]
    }
   ],
   "source": [
    "./src/streams/streams 7"
   ]
  },
  {
   "cell_type": "code",
   "execution_count": 0,
   "metadata": {
    "collapsed": false
   },
   "outputs": [
   ],
   "source": [
   ]
  }
 ],
 "metadata": {
  "kernelspec": {
   "display_name": "Bash (Linux)",
   "language": "bash",
   "name": "bash"
  },
  "language_info": {
   "codemirror_mode": "shell",
   "file_extension": ".sh",
   "mimetype": "text/x-sh",
   "name": "bash"
  }
 },
 "nbformat": 4,
 "nbformat_minor": 0
}