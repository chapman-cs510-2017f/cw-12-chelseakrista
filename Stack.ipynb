{
 "cells": [
  {
   "cell_type": "code",
   "execution_count": 0,
   "metadata": {
    "collapsed": false
   },
   "outputs": [
   ],
   "source": [
    "1. In a Jupyter notebook Stack.ipynb, describe how the Stack type is defined and how it works in detail. Explain in particular the differences between this implementation and the C implementation that you have already coded.\n",
    "    \n",
    "    Stack type is defined in C++ through a class. There is also a default constructor within C++ to define Stack. A lot of the Stack implementation processes in C++ are automated as opposed to C++.\n",
    "2. Explain the difference between a class and a struct\n",
    "\n",
    "    The differences between a class and a struct are that structs have default public members and bases whereas classes have default private members and bases.\n",
    "3. Explain what private and public do\n",
    "    \n",
    "    For public, a base class's public members will be public, which is usually the default. For private, a base class's public members will be private.\n",
    "4. Explain what size_t is used for\n",
    "\n",
    "    size_t works similarly to length_stack. It will extract the size field from the class properly.\n",
    "5. Explain why this code avoids the use of C pointers\n",
    "\n",
    "    This code avoids the use of C pointers because C++ contains its own abstract data type that is simulates a pointer while providing additional features like wraping a new block of memory inside the pointer, and manages the deallocation for us.  If the pointer ever goes out of scope, then unique_ptr automatically calls delete on the corresponding block of memory. This mimics the action of a \"garbage collector\", which cleans up blocks of memory that are no longer being used\n",
    "6. Explain what new and delete do in C++, and how they relate to what you have done in C\n",
    "\n",
    "    \"new\" is a header describes functions used to manage dynamic storage in C++. \"delete\" is an operator that is the default dealocation function.\n",
    "\n",
    "7. Explain what a memory leak is, and what you should do to avoid it\n",
    "\n",
    "    A memory leak is when the program incorrectly manages memory allocations in a way that memory that is not needed is released. You can avoid this by using the smart pointers that are already defined in C++.\n",
    "8. Explain what a unique_ptr is and how it relates to both new and C pointers\n",
    "\n",
    "    A unique_ptr is a smart pointer and it is related to new because it allocates a block of memory to the pointer. It works similarly to a C pointer but it manages the memory deallocation for us. that is able to handle deallocation of memory that is not used.\n",
    "9. Explain what a list initializer does\n",
    "\n",
    "    A list initializer allows you to choose which constructor is called and what arguments that constructor receives.\n",
    "10. Explain what the \"Rule of Zero\" is, and how it relates to the \"Rule of Three\"\n",
    "\n",
    "    The \"Rule of Zero\" is that when programmers should make sure to use smart pointers for memory allocation to prevent memory leaks. It relates to the \"Rule of Three\", which is defining a class constructor, copy constructor, and copy assignment because the smart pointer already makes sure to keep this rule when managing memory allocation."
   ]
  }
 ],
 "metadata": {
  "kernelspec": {
   "display_name": "Bash (Linux)",
   "language": "bash",
   "name": "bash"
  },
  "language_info": {
   "codemirror_mode": "shell",
   "file_extension": ".sh",
   "mimetype": "text/x-sh",
   "name": "bash"
  }
 },
 "nbformat": 4,
 "nbformat_minor": 0
}