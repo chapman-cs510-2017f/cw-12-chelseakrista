{
 "cells": [
  {
   "cell_type": "markdown",
   "metadata": {
    "collapsed": false
   },
   "source": [
    "# Structs\n",
    "* In a Jupyter notebook Structs.ipynb, explain how this code differs from the equivalent C implementation that you examined in a previous class. Be specific and detailed.\n",
    "In C++ the typedef is automatic, we don't need to include it. In C++ we  can define separate functions with the same  name (like print) but in c++ we  can use overloading to define print for each of the types Vec2 and Vec3.\n",
    "\n",
    "* Explain what a #define guard does, and why it could be useful\n",
    "it prevents the header file from being included more than once by the pre-processer. If you accidentially include a headerfile more than once or have a recursive #include, this stops that from being a problem.\n",
    "\n",
    "* Explain what type overloading is, and why it could be useful\n",
    "it allows the same function to be used differently for different types.\n",
    "\n",
    "* Explain the difference between \"pass by reference\" in C and \"pass by reference\" in C++.\n",
    "In C, when you \"pass by reference\" you're just taking the pointer, going to it, and changing the value there. In C++ since we have objects, a function can actually change the object you give it as a function argument.\n",
    "\n",
    "* Explain what operator type overloading is, and why it could be useful\n",
    "operator type overloading allows the user to define how  to use build in functions for user defined types. This is useful so that you can use common operators on your own types.\n",
    "\n",
    "* Finish implementing the needed functions, and make sure your code compiles and runs. Explain the output carefully.\n"
   ]
  }
 ],
 "metadata": {
  "kernelspec": {
   "display_name": "Python 3 (Anaconda)",
   "language": "python",
   "name": "anaconda3"
  },
  "language_info": {
   "codemirror_mode": {
    "name": "ipython",
    "version": 3
   },
   "file_extension": ".py",
   "mimetype": "text/x-python",
   "name": "python",
   "nbconvert_exporter": "python",
   "pygments_lexer": "ipython3",
   "version": "3.5.4"
  }
 },
 "nbformat": 4,
 "nbformat_minor": 0
}